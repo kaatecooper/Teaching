{
 "cells": [
  {
   "cell_type": "markdown",
   "metadata": {},
   "source": [
    "# Some minor relevant things"
   ]
  },
  {
   "cell_type": "code",
   "execution_count": 4,
   "metadata": {},
   "outputs": [
    {
     "name": "stdout",
     "output_type": "stream",
     "text": [
      "I like 5\n",
      "I like 100\n",
      "I like 7\n"
     ]
    }
   ],
   "source": [
    "# Default values\n",
    "def praise(x=7):\n",
    "    print('I like',x)\n",
    "\n",
    "praise(5)\n",
    "praise(100)\n",
    "praise()"
   ]
  },
  {
   "cell_type": "code",
   "execution_count": 13,
   "metadata": {},
   "outputs": [
    {
     "name": "stdout",
     "output_type": "stream",
     "text": [
      "I am Dog !\n",
      "I am Spirit !\n"
     ]
    }
   ],
   "source": [
    "# A quick example of how classes work\n",
    "class Creature(): # This defines a class\n",
    "    def __init__(self, name=\"Spirit\"): # This is a constructor (system thingy, just has to be like that)\n",
    "        \"\"\"Constructor.\"\"\"\n",
    "        self.name = name # \"self\" is a special argument that has to be there\n",
    "        # \"self\" allows the methods of a class to refer to itself.\n",
    "        \n",
    "    def speak(self): # Another method, this time of our choosing.\n",
    "        print('I am', self.name, '!') # See, we can refer to the parameter of the class\n",
    "        \n",
    "c = Creature('Dog') # Create one instance\n",
    "c.speak()\n",
    "c1 = Creature() # Create another, different, instance. This time with default name.\n",
    "c1.speak()"
   ]
  }
 ],
 "metadata": {
  "kernelspec": {
   "display_name": "Python 3",
   "language": "python",
   "name": "python3"
  },
  "language_info": {
   "codemirror_mode": {
    "name": "ipython",
    "version": 3
   },
   "file_extension": ".py",
   "mimetype": "text/x-python",
   "name": "python",
   "nbconvert_exporter": "python",
   "pygments_lexer": "ipython3",
   "version": "3.7.3"
  }
 },
 "nbformat": 4,
 "nbformat_minor": 2
}
